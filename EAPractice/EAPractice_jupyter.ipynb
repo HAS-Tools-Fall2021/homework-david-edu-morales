{
 "cells": [
  {
   "cell_type": "code",
   "execution_count": 2,
   "id": "9aff0540",
   "metadata": {},
   "outputs": [
    {
     "data": {
      "text/plain": [
       "7"
      ]
     },
     "execution_count": 2,
     "metadata": {},
     "output_type": "execute_result"
    }
   ],
   "source": [
    "3+4"
   ]
  },
  {
   "cell_type": "markdown",
   "id": "aee56f7b",
   "metadata": {},
   "source": [
    "### Markdown test\n",
    "How does this look?"
   ]
  },
  {
   "cell_type": "code",
   "execution_count": null,
   "id": "5ccb894c",
   "metadata": {},
   "outputs": [],
   "source": []
  }
 ],
 "metadata": {
  "kernelspec": {
   "display_name": "Python 3 (ipykernel)",
   "language": "python",
   "name": "python3"
  },
  "language_info": {
   "codemirror_mode": {
    "name": "ipython",
    "version": 3
   },
   "file_extension": ".py",
   "mimetype": "text/x-python",
   "name": "python",
   "nbconvert_exporter": "python",
   "pygments_lexer": "ipython3",
   "version": "3.8.10"
  }
 },
 "nbformat": 4,
 "nbformat_minor": 5
}
